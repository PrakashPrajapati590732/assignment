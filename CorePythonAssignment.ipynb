{
 "cells": [
  {
   "cell_type": "markdown",
   "id": "a91705ba-9790-4bf1-8f74-ee463382e158",
   "metadata": {},
   "source": [
    "## Q 1:- What are the types of Applications? "
   ]
  },
  {
   "cell_type": "markdown",
   "id": "d80c219f-8467-4a69-8533-d00d3dafd818",
   "metadata": {},
   "source": [
    "Ans:-Python is a versatile programming language that can be used to develop a wide range of applications.\n",
    "\n",
    "        Common types of applications are:\n",
    "\n",
    "       \t1.Web Applications.\n",
    "       \t2.Machine Learning.\n",
    " \t    \t3.Data Science.\n",
    " \t    \t4.Artificial Intelligence.\n",
    " \t      \tand many more applications are there in python."
   ]
  },
  {
   "cell_type": "markdown",
   "id": "b2fbfcfc-723c-45a9-a24d-8adb292972db",
   "metadata": {},
   "source": [
    "##  Q 2:- What is programming? "
   ]
  },
  {
   "cell_type": "markdown",
   "id": "33a615b5-9f60-4e32-a8e8-330ad30a8964",
   "metadata": {},
   "source": [
    "Ans:-Programming is the process of creating a set of instructions that tell a computer how to perform specific tasks or solve problems.\n",
    " \t It involves writing code in various programming languages to enable computers and applications to function as intended.\n",
    "\t Popular programming languages are: JavaScript ,Python ,C ,C++ ,HTML ,CSS etc..."
   ]
  },
  {
   "cell_type": "markdown",
   "id": "bfd4cee2-b974-49e5-b6ed-6129a897a92b",
   "metadata": {},
   "source": [
    "## Q 3:- What is python?"
   ]
  },
  {
   "cell_type": "markdown",
   "id": "75a3cd9b-cc04-42c7-bc1c-2d4a9f0c46b5",
   "metadata": {},
   "source": [
    "Ans:-Python is a Programming language having properties like it is interpreted, object-oriented and it is high-level. \n",
    "     It is a set of instructions that we give in the form of a Program to \tour computer to perform any specific task. \n",
    "     Due to its beginner-friendly syntax, it became a clear choice for beginners to start their programming journey.\n",
    "     The major focus behind \tcreating it is making it easier for developers to read and understand, also reducing the lines of code."
   ]
  },
  {
   "cell_type": "markdown",
   "id": "c116f61e-71f3-4674-870b-9d7c2ac088c7",
   "metadata": {},
   "source": [
    "## Q 4:- Write a Python program to check if a number is positive, negative or zero."
   ]
  },
  {
   "cell_type": "code",
   "execution_count": 3,
   "id": "2420f231-ad29-4068-822b-a2d1627ed449",
   "metadata": {},
   "outputs": [
    {
     "name": "stdout",
     "output_type": "stream",
     "text": [
      "Enter any number :  10\n"
     ]
    },
    {
     "name": "stdout",
     "output_type": "stream",
     "text": [
      "10 is positive number.\n"
     ]
    }
   ],
   "source": [
    "num = int(input(\"Enter any number : \"))\n",
    "if num == 0:\n",
    "    print(f\"{num} is zero.\")\n",
    "elif num >= 1:\n",
    "    print(f\"{num} is positive number.\") \n",
    "elif num < 0:\n",
    "    print(f\"{num} is negative number.\")\n",
    "else:\n",
    "    print(\"Invalid Data!\")"
   ]
  },
  {
   "cell_type": "markdown",
   "id": "48249802-07ee-41cf-83a3-9eb6472df91e",
   "metadata": {},
   "source": [
    "## Q 5:- Write a Python program to get the Factorial number of given numbers."
   ]
  },
  {
   "cell_type": "code",
   "execution_count": 2,
   "id": "119f7783-fb91-4bca-a24e-e2e171cf1f5d",
   "metadata": {},
   "outputs": [
    {
     "name": "stdout",
     "output_type": "stream",
     "text": [
      "Enter the Number: 5\n"
     ]
    },
    {
     "name": "stdout",
     "output_type": "stream",
     "text": [
      "The factorial of 5 is: 120\n"
     ]
    }
   ],
   "source": [
    "num = int(input(\"Enter the Number:\"))\n",
    "\n",
    "fact = 1\n",
    "i = 1\n",
    "\n",
    "while i <= num:\n",
    "    fact *= i\n",
    "    i += 1\n",
    "\n",
    "print(f\"The factorial of {num} is: {fact}\")"
   ]
  },
  {
   "cell_type": "markdown",
   "id": "dc1c3be7-7d4c-45f0-b7c1-0f41d75a6cda",
   "metadata": {},
   "source": [
    "## Q 6:-Write a Python program to get the Fibonacci series of given range."
   ]
  },
  {
   "cell_type": "code",
   "execution_count": 4,
   "id": "fb005525-c1c6-4709-aecf-1dbe632f6971",
   "metadata": {},
   "outputs": [
    {
     "name": "stdout",
     "output_type": "stream",
     "text": [
      "Enter the number of terms: 10\n"
     ]
    },
    {
     "name": "stdout",
     "output_type": "stream",
     "text": [
      "0 1 1 2 3 5 8 13 21 34 "
     ]
    }
   ],
   "source": [
    "n = int(input(\"Enter the number of terms:\"))\n",
    "\n",
    "a,b = 0,1\n",
    "count = 0\n",
    "\n",
    "while count < n:\n",
    "    print(a, end=\" \")\n",
    "    a,b = b,a+b\n",
    "    count += 1"
   ]
  },
  {
   "cell_type": "markdown",
   "id": "1927b5e8-680f-4d88-a942-64d313fcf504",
   "metadata": {},
   "source": [
    "## Q 7:- How memory is managed in Python?"
   ]
  },
  {
   "cell_type": "markdown",
   "id": "9619a4ab-bbfc-47c8-9941-2717258d36e8",
   "metadata": {},
   "source": [
    " Ans:- Python manages memory through a private heap,a garbage collector, and memory pools.\n",
    "       Private Heap : A private heap is a section of memory that's exclusive to the python process.\n",
    "                      The size of the private heap can change based on the program's memory needs.\n",
    "\n",
    "       Garbage collector : The garbage collector automatically reclaims memory that's no longer in use.\n",
    "                           The garbage collector runs periodically to find and collect objects with a reference \n",
    "                           count of zero.\n",
    "\n",
    "       Memory Pools : Memory pools are pre-allocatted  chunks of memory that are organized by the size of \n",
    "                      the objects  they store.\n",
    "                      Memory pools are used to manage small objects (up to 512 bytes)."
   ]
  },
  {
   "cell_type": "markdown",
   "id": "6d6a9095-8b4b-457f-9eaa-ba49a7822d5d",
   "metadata": {},
   "source": [
    "## Q 8:-What is the purpose continuing statement in python? "
   ]
  },
  {
   "cell_type": "markdown",
   "id": "3a1c1caa-88f6-4e5b-815b-74fc7823c09c",
   "metadata": {},
   "source": [
    "Ans:- The continue statement in Python skips the current iteration of a loop and moves on to the next iteration.\n",
    "      It's used to ignore certain values or conditions while iterating over a sequence."
   ]
  },
  {
   "cell_type": "markdown",
   "id": "0ec13894-9c68-489d-b470-dd41424a7ad0",
   "metadata": {},
   "source": [
    "## Q 9:-Write python program that swap two number with temp variable and without temp variable."
   ]
  },
  {
   "cell_type": "code",
   "execution_count": 6,
   "id": "54912433-e63e-468f-adf8-1214eba4a1ac",
   "metadata": {},
   "outputs": [
    {
     "name": "stdout",
     "output_type": "stream",
     "text": [
      "Enter a value of num1: 10\n",
      "Enter a value of num2: 17\n"
     ]
    },
    {
     "name": "stdout",
     "output_type": "stream",
     "text": [
      "Before swapping:\n",
      "num1 = 10\n",
      "num2 = 17\n",
      "\n",
      "After swapping with temp variable:\n",
      "num1 = 17\n",
      "num2 = 10\n"
     ]
    }
   ],
   "source": [
    "# With temp variable\n",
    "\n",
    "num1 = int(input(\"Enter a value of num1:\"))\n",
    "num2 = int(input(\"Enter a value of num2:\"))\n",
    "\n",
    "print(\"Before swapping:\")\n",
    "print(\"num1 =\", num1)\n",
    "print(\"num2 =\", num2)\n",
    "\n",
    "temp = num1\n",
    "num1 = num2\n",
    "num2 = temp\n",
    "\n",
    "print(\"\\nAfter swapping with temp variable:\")\n",
    "print(\"num1 =\", num1)\n",
    "print(\"num2 =\", num2)"
   ]
  },
  {
   "cell_type": "code",
   "execution_count": 5,
   "id": "7231d79f-1d8f-46d4-a06e-1130719aa894",
   "metadata": {},
   "outputs": [
    {
     "name": "stdout",
     "output_type": "stream",
     "text": [
      "Enter a value of num1: 25\n",
      "Enter a value of num2: 65\n"
     ]
    },
    {
     "name": "stdout",
     "output_type": "stream",
     "text": [
      "Before swapping:\n",
      "num1 = 25\n",
      "num2 = 65\n",
      "\n",
      "After swapping without temp variable:\n",
      "num1 = 65\n",
      "num2 = 25\n"
     ]
    }
   ],
   "source": [
    "# Without temp variable\n",
    "\n",
    "num1 = int(input(\"Enter a value of num1:\"))\n",
    "num2 = int(input(\"Enter a value of num2:\"))\n",
    "\n",
    "print(\"Before swapping:\")\n",
    "print(\"num1 =\", num1)\n",
    "print(\"num2 =\", num2)\n",
    "\n",
    "# Swapping\n",
    "num1 = num1 + num2\n",
    "num2 = num1 - num2\n",
    "num1 = num1 - num2\n",
    "\n",
    "print(\"\\nAfter swapping without temp variable:\")\n",
    "print(\"num1 =\", num1)\n",
    "print(\"num2 =\", num2)"
   ]
  },
  {
   "cell_type": "markdown",
   "id": "2cbad47c-d44a-406f-b6aa-6dc95779a7d1",
   "metadata": {},
   "source": [
    "## Q 10:- Write a Python program to find whether a given number is even or odd, print out an appropriate message to the user."
   ]
  },
  {
   "cell_type": "code",
   "execution_count": 3,
   "id": "b1743443-a51a-494e-8654-725d8afc8983",
   "metadata": {},
   "outputs": [
    {
     "name": "stdout",
     "output_type": "stream",
     "text": [
      "Enter a number: 892\n"
     ]
    },
    {
     "name": "stdout",
     "output_type": "stream",
     "text": [
      "892 is an even number.\n"
     ]
    }
   ],
   "source": [
    "number = int(input(\"Enter a number:\"))\n",
    "\n",
    "if number % 2 == 0:\n",
    "    print(f\"{number} is an even number.\")\n",
    "else:\n",
    "    print(f\"{number} is an odd number.\")"
   ]
  },
  {
   "cell_type": "markdown",
   "id": "9f29c8ff-dbd5-4b04-bed9-e72bc89e63dd",
   "metadata": {},
   "source": [
    "## Q 11:-Write a Python program to test whether a passed letter is a vowel or not. "
   ]
  },
  {
   "cell_type": "code",
   "execution_count": 10,
   "id": "654d6741-d3fe-474e-9a15-8bca0d38d6d2",
   "metadata": {},
   "outputs": [
    {
     "name": "stdout",
     "output_type": "stream",
     "text": [
      "Enter the letter: S\n"
     ]
    },
    {
     "name": "stdout",
     "output_type": "stream",
     "text": [
      "Given letter S is not a vowel.\n"
     ]
    }
   ],
   "source": [
    "letter = input(\"Enter the letter:\")\n",
    "\n",
    "if (letter == 'A' or letter == 'E' or letter == 'I' or letter == 'O' or letter == 'U' or letter == 'a' or letter == 'e' or letter == 'i' or letter == 'o' or letter == 'u'):\n",
    "    print(f\"Given letter {letter} is a vowel.\")\n",
    "else:\n",
    "    print(f\"Given letter {letter} is not a vowel.\")"
   ]
  },
  {
   "cell_type": "markdown",
   "id": "c5970dbc-e9b1-4f3b-96ab-bb19fd448113",
   "metadata": {},
   "source": [
    "## Q 12:-Write a Python program to sum of three given integers. However, if two values are equal sum will be zero. "
   ]
  },
  {
   "cell_type": "code",
   "execution_count": 7,
   "id": "94c1fb0c-b5e5-48e1-b21f-940b9e2db7eb",
   "metadata": {},
   "outputs": [
    {
     "name": "stdout",
     "output_type": "stream",
     "text": [
      "Enter first integer: 89\n",
      "Enter second integer: 51\n",
      "Enter third integer: 36\n"
     ]
    },
    {
     "name": "stdout",
     "output_type": "stream",
     "text": [
      "sum of three given integers 89,51,36 is : 176\n"
     ]
    }
   ],
   "source": [
    "num1 = int(input(\"Enter first integer:\"))\n",
    "num2 = int(input(\"Enter second integer:\"))\n",
    "num3 = int(input(\"Enter third integer:\"))\n",
    "\n",
    "sum_of_integers = 0\n",
    "\n",
    "if num1 == num2 or num2 == num3 or num1 == num3:\n",
    "    print(sum_of_integers)\n",
    "else:\n",
    "    sum_of_integers = num1 + num2 + num3\n",
    "    print(f\"sum of three given integers {num1},{num2},{num3} is : {sum_of_integers}\")"
   ]
  },
  {
   "cell_type": "markdown",
   "id": "35cc86e7-512f-4092-9a86-f7991ee506aa",
   "metadata": {},
   "source": [
    "## Q 13:-Write a Python program that will return true if the two given integer values are equal or their sum or difference is 5."
   ]
  },
  {
   "cell_type": "code",
   "execution_count": 11,
   "id": "e4a9d730-297a-44c7-b373-4342466b59a9",
   "metadata": {},
   "outputs": [
    {
     "name": "stdout",
     "output_type": "stream",
     "text": [
      "Enter a value of num1: 12\n",
      "Enter a value of num2: 7\n"
     ]
    },
    {
     "name": "stdout",
     "output_type": "stream",
     "text": [
      "True\n"
     ]
    }
   ],
   "source": [
    "num1 = int(input(\"Enter a value of num1:\"))\n",
    "num2 = int(input(\"Enter a value of num2:\"))\n",
    "\n",
    "add = num1 + num2\n",
    "diff = num1 - num2\n",
    "\n",
    "if num1 == num2 or add == 5 or diff == 5:\n",
    "    print(True)\n",
    "else:\n",
    "    print(False)"
   ]
  },
  {
   "cell_type": "markdown",
   "id": "c320e899-87d0-4981-95f0-90c4fcd77b17",
   "metadata": {},
   "source": [
    "## Q 14:-Write a python program to sum of the first n positive integers."
   ]
  },
  {
   "cell_type": "code",
   "execution_count": 19,
   "id": "ccc35060-f559-4aa2-88e5-d6e5b831bad9",
   "metadata": {},
   "outputs": [
    {
     "name": "stdout",
     "output_type": "stream",
     "text": [
      "Enter the value of num: 5\n"
     ]
    },
    {
     "name": "stdout",
     "output_type": "stream",
     "text": [
      "sum of the first 5 positive integers is : 15\n"
     ]
    }
   ],
   "source": [
    "num = int(input(\"Enter the value of num:\"))\n",
    "summation = 0\n",
    "for i in range(1,num+1):\n",
    "    summation += i\n",
    "print(f\"sum of the first {num} positive integers is : {summation}\")"
   ]
  },
  {
   "cell_type": "markdown",
   "id": "1257b467-0ce1-4b3b-a006-079e62a2e949",
   "metadata": {},
   "source": [
    "## Q 15:-Write a Python program to calculate the length of a string."
   ]
  },
  {
   "cell_type": "code",
   "execution_count": 111,
   "id": "e5908a62-bed4-4e8d-837f-979581650a49",
   "metadata": {},
   "outputs": [
    {
     "name": "stdout",
     "output_type": "stream",
     "text": [
      "The length of the string is: 24\n"
     ]
    }
   ],
   "source": [
    "string = \"Shubham_Sureshbhai_Patel\"\n",
    "\n",
    "string_length = len(string)\n",
    "\n",
    "print(\"The length of the string is:\", string_length)"
   ]
  },
  {
   "cell_type": "markdown",
   "id": "9c01918c-f33d-4487-9df4-304f1c004bbc",
   "metadata": {},
   "source": [
    "## Q 16:- Write a Python program to count the number of characters (character frequency) in a string."
   ]
  },
  {
   "cell_type": "code",
   "execution_count": 112,
   "id": "352d3951-a656-4050-b595-ba436443ccbb",
   "metadata": {},
   "outputs": [
    {
     "name": "stdout",
     "output_type": "stream",
     "text": [
      "Character frequency in the string:\n",
      "'h': 1\n",
      "'e': 1\n",
      "'l': 3\n",
      "'o': 2\n",
      "' ': 1\n",
      "'w': 1\n",
      "'r': 1\n",
      "'d': 1\n"
     ]
    }
   ],
   "source": [
    "input_string = \"hello world\"\n",
    "char_count = {}\n",
    "\n",
    "for char in input_string:\n",
    "    if char in char_count:\n",
    "        char_count[char] += 1\n",
    "    else:\n",
    "        char_count[char] = 1\n",
    "        \n",
    "print(\"Character frequency in the string:\")\n",
    "for char, count in char_count.items():\n",
    "    print(f\"'{char}': {count}\")    "
   ]
  },
  {
   "cell_type": "markdown",
   "id": "ec92ba04-b10f-4fe2-86d3-332456b25bbc",
   "metadata": {},
   "source": [
    "## Q 17:-What are negative indexes and why are they used? "
   ]
  },
  {
   "cell_type": "markdown",
   "id": "5c716feb-a109-40bd-8b2a-2c4429818b7a",
   "metadata": {},
   "source": [
    "Negative indexes are a feature in many programming languages, including Python, that allow you to access elements from the end of a list, string, or other sequence types.\n",
    "\n",
    "Instead of starting from the beginning (index 0), negative indexes count backwards from the end of the sequence. \n",
    "\n",
    "For example:\n",
    "             -1 refers to the last element,\n",
    "             -2 refers to the second-to-last element, and so on.\n",
    "             \n",
    "Why are negative indexes used?\n",
    "\n",
    "1.Convenience: Negative indexes make it easy to reference elements at the end of a sequence without needing to know the length of the sequence. This can save you from having to manually calculate the index.\n",
    "\n",
    "    For example, if you want the last element of a list, you can use my_list[-1] instead of my_list[len(my_list) - 1].\n",
    "\n",
    "2.Improved Readability: Using negative indexes often makes code more readable when you're working with elements near the end of a sequence, as it avoids cluttering your code with extra operations or calculations.\n",
    "\n",
    "3.Simplification: In cases where you're working with dynamic data (lists, arrays, strings), using negative indexes allows you to directly access elements from the end without worrying about the size of the sequence."
   ]
  },
  {
   "cell_type": "markdown",
   "id": "e0b82bc7-dce5-42dd-9317-7671858fea66",
   "metadata": {},
   "source": [
    "## Q 18:-Write a Python program to count occurrences of a substring in a string."
   ]
  },
  {
   "cell_type": "code",
   "execution_count": 115,
   "id": "622432d0-5265-4dea-a908-719a3436dba5",
   "metadata": {},
   "outputs": [
    {
     "name": "stdout",
     "output_type": "stream",
     "text": [
      "The substring 'hello' appears 2 times in the string.\n"
     ]
    }
   ],
   "source": [
    "string = \"hello world, how are you, hello guys\"\n",
    "substring = \"hello\"\n",
    "\n",
    "occurrences = string.count(substring)\n",
    "\n",
    "print(f\"The substring '{substring}' appears {occurrences} times in the string.\")"
   ]
  },
  {
   "cell_type": "markdown",
   "id": "7a059b58-cf16-4a9c-a039-aeecf81e85df",
   "metadata": {},
   "source": [
    "## Q 19:- Write a Python program to count the occurrences of each word in a given sentence."
   ]
  },
  {
   "cell_type": "code",
   "execution_count": 116,
   "id": "b52147f9-ab79-4ccc-9786-92720db4ac60",
   "metadata": {},
   "outputs": [
    {
     "name": "stdout",
     "output_type": "stream",
     "text": [
      "Word frequency in the sentence:\n",
      "'hello': 3\n",
      "'world': 1\n",
      "'everyone': 1\n",
      "'universe': 1\n"
     ]
    }
   ],
   "source": [
    "from collections import Counter\n",
    "\n",
    "sentence = \"hello world hello everyone hello universe\"\n",
    "\n",
    "words = sentence.split()\n",
    "\n",
    "word_count = Counter(words)\n",
    "\n",
    "print(\"Word frequency in the sentence:\")\n",
    "for word, count in word_count.items():\n",
    "    print(f\"'{word}': {count}\")"
   ]
  },
  {
   "cell_type": "markdown",
   "id": "96fe6521-a137-4c81-8520-5e23a7de35e6",
   "metadata": {},
   "source": [
    "## Q 20:- Write a Python program to get a single string from two given strings,separated by a space and swap the first two characters of each string."
   ]
  },
  {
   "cell_type": "code",
   "execution_count": 117,
   "id": "e3328c6e-2984-441d-b7b0-742f578d107d",
   "metadata": {},
   "outputs": [
    {
     "name": "stdout",
     "output_type": "stream",
     "text": [
      "Resulting string: wollo herld\n"
     ]
    }
   ],
   "source": [
    "string1 = \"hello\"\n",
    "string2 = \"world\"\n",
    "\n",
    "modified_string1 = string2[:2] + string1[2:]\n",
    "modified_string2 = string1[:2] + string2[2:]\n",
    "\n",
    "result = modified_string1 + \" \" + modified_string2\n",
    "print(\"Resulting string:\", result)"
   ]
  },
  {
   "cell_type": "markdown",
   "id": "a4f1b7a5-4b61-4574-83ad-f1f6d38acadd",
   "metadata": {},
   "source": [
    "## Q 21:- Write a Python program to add 'in' at the end of a given string (length should be at least 3). If the given string already ends with 'ing' then add 'ly' instead if the string length of the given string is less than 3, leave it unchanged. \n"
   ]
  },
  {
   "cell_type": "code",
   "execution_count": 125,
   "id": "da189c48-f5e7-4f4d-be34-3c6d998fa35b",
   "metadata": {},
   "outputs": [
    {
     "name": "stdout",
     "output_type": "stream",
     "text": [
      "Modified string: runin\n"
     ]
    }
   ],
   "source": [
    "input_string = \"run\"\n",
    "\n",
    "if len(input_string) >= 3:\n",
    "    if input_string.endswith('ing'):\n",
    "        input_string += 'ly'\n",
    "    else:\n",
    "        input_string += 'in'\n",
    "        \n",
    "print(\"Modified string:\", input_string)"
   ]
  },
  {
   "cell_type": "markdown",
   "id": "84b5bf83-a989-4741-8669-30529e56a041",
   "metadata": {},
   "source": [
    "## Q 22:- Write a Python function to reverses a string if its length is a multiple of 4."
   ]
  },
  {
   "cell_type": "code",
   "execution_count": 5,
   "id": "be682791-bdce-41ec-9ba4-1c0bcb63766b",
   "metadata": {},
   "outputs": [
    {
     "name": "stdout",
     "output_type": "stream",
     "text": [
      "dcba\n",
      "hello\n",
      "python\n",
      "4321dcba\n"
     ]
    }
   ],
   "source": [
    "def reverse_string_if_multiple_of_4(s):\n",
    "    if len(s) % 4 == 0:\n",
    "        return s[::-1]\n",
    "    else:\n",
    "        return s\n",
    "\n",
    "print(reverse_string_if_multiple_of_4(\"abcd\"))\n",
    "print(reverse_string_if_multiple_of_4(\"hello\"))\n",
    "print(reverse_string_if_multiple_of_4(\"python\"))\n",
    "print(reverse_string_if_multiple_of_4(\"abcd1234\"))"
   ]
  },
  {
   "cell_type": "markdown",
   "id": "189c60f4-acf7-4290-8a27-43c1febf3328",
   "metadata": {},
   "source": [
    "## Q 23:- Write a Python program to get a string made of the first 2 and the last 2 chars from a given a string. If the string length is less than 2, return instead of the empty string."
   ]
  },
  {
   "cell_type": "code",
   "execution_count": 126,
   "id": "ad1374cb-f064-4d2e-957d-e6b74ebec80f",
   "metadata": {},
   "outputs": [
    {
     "name": "stdout",
     "output_type": "stream",
     "text": [
      "Resulting string: helo\n"
     ]
    }
   ],
   "source": [
    "input_string = \"hello\"\n",
    "\n",
    "if len(input_string) < 2:\n",
    "    result = \"\"\n",
    "else:\n",
    "    result = input_string[:2] + input_string[-2:]\n",
    "    \n",
    "print(\"Resulting string:\", result)"
   ]
  },
  {
   "cell_type": "markdown",
   "id": "8179ed79-6529-4cd9-9832-c5268b09b26e",
   "metadata": {},
   "source": [
    "## Q 24:-Write a Python function to insert a string in the middle of a string."
   ]
  },
  {
   "cell_type": "code",
   "execution_count": 127,
   "id": "9a2e5aa6-ee1e-4499-aa24-f3fac1af9b89",
   "metadata": {},
   "outputs": [
    {
     "name": "stdout",
     "output_type": "stream",
     "text": [
      "heabcllo\n",
      "hello123_world\n",
      "pytxyzhon\n"
     ]
    }
   ],
   "source": [
    "def insert_in_middle(s1, s2):\n",
    "    middle_index = len(s1) // 2\n",
    "    return s1[:middle_index] + s2 + s1[middle_index:]\n",
    "\n",
    "print(insert_in_middle(\"hello\", \"abc\"))\n",
    "print(insert_in_middle(\"hello_world\", \"123\"))\n",
    "print(insert_in_middle(\"python\", \"xyz\"))"
   ]
  },
  {
   "cell_type": "markdown",
   "id": "b26fecae-4015-4f2c-b3b8-004e6b22857a",
   "metadata": {},
   "source": [
    "## Q 25:-What is List? How will you reverse a list? "
   ]
  },
  {
   "cell_type": "markdown",
   "id": "02b4dba1-044c-43ad-b034-1e9bd9df7b9f",
   "metadata": {},
   "source": [
    "Ans:- A list is a built-in data structure in Python that allows you to store multiple items in a single variable.Lists are ordered, mutable and can store elements of different data types."
   ]
  },
  {
   "cell_type": "code",
   "execution_count": 1,
   "id": "7fc1353c-29a2-47e5-8c9a-6bf6d9a5c8af",
   "metadata": {},
   "outputs": [
    {
     "name": "stdout",
     "output_type": "stream",
     "text": [
      "[(5+9j), 0.9, 'apple', 'a', 1]\n"
     ]
    }
   ],
   "source": [
    "# There are several ways to reverse a list.\n",
    "# Using reverse() Method.\n",
    "\n",
    "list_1 = [1,'a','apple',0.9,5+9j]\n",
    "list_1.reverse()\n",
    "print(list_1)"
   ]
  },
  {
   "cell_type": "code",
   "execution_count": 2,
   "id": "5047a2d3-fadf-451e-b566-202c50e37bd5",
   "metadata": {},
   "outputs": [
    {
     "name": "stdout",
     "output_type": "stream",
     "text": [
      "[(5+9j), 0.9, 'apple', 'a', 1]\n"
     ]
    }
   ],
   "source": [
    "# Using slicing.\n",
    "\n",
    "list_1 = [1,'a','apple',0.9,5+9j]\n",
    "reverse_list = list_1[::-1]\n",
    "print(reverse_list)"
   ]
  },
  {
   "cell_type": "code",
   "execution_count": 3,
   "id": "713e0de0-5338-4cfe-83ff-90df99e9fae2",
   "metadata": {},
   "outputs": [
    {
     "name": "stdout",
     "output_type": "stream",
     "text": [
      "[(5+9j), 0.9, 'apple', 'a', 1]\n"
     ]
    }
   ],
   "source": [
    "# Using Loop.\n",
    "\n",
    "list_1 = [1,'a','apple',0.9,5+9j]\n",
    "reverse_list = []\n",
    "\n",
    "for item in reversed(list_1):\n",
    "    reverse_list.append(item)\n",
    "print(reverse_list) "
   ]
  },
  {
   "cell_type": "markdown",
   "id": "e70462c8-489c-4c2b-aca1-7c6b2c3c49dc",
   "metadata": {},
   "source": [
    "## Q 26:-How will you remove last object from a list?"
   ]
  },
  {
   "cell_type": "code",
   "execution_count": 4,
   "id": "7b3e5568-3413-4ee4-903a-b9194968a45f",
   "metadata": {},
   "outputs": [
    {
     "name": "stdout",
     "output_type": "stream",
     "text": [
      "[1, 'a', 'apple', 0.9]\n"
     ]
    }
   ],
   "source": [
    "list_1 = [1,'a','apple',0.9,5+9j]\n",
    "list_1.pop()\n",
    "print(list_1)"
   ]
  },
  {
   "cell_type": "code",
   "execution_count": 5,
   "id": "f4690925-be7b-4b1d-bad9-81edcdebe320",
   "metadata": {},
   "outputs": [
    {
     "name": "stdout",
     "output_type": "stream",
     "text": [
      "[1, 'a', 'apple', 0.9]\n"
     ]
    }
   ],
   "source": [
    "list_1 = [1,'a','apple',0.9,5+9j]\n",
    "del list_1[4]\n",
    "print(list_1)"
   ]
  },
  {
   "cell_type": "code",
   "execution_count": 6,
   "id": "4ed52693-6c52-428d-96e3-77c9a82629f0",
   "metadata": {},
   "outputs": [
    {
     "name": "stdout",
     "output_type": "stream",
     "text": [
      "[1, 'a', 'apple', 0.9]\n"
     ]
    }
   ],
   "source": [
    "list_1 = [1,'a','apple',0.9,5+9j]\n",
    "list_1 = list_1[:-1]\n",
    "print(list_1)"
   ]
  },
  {
   "cell_type": "markdown",
   "id": "e64ed75e-435f-4638-ae22-252c3ee5e09e",
   "metadata": {},
   "source": [
    "## Q 27:-Suppose list1 is [2, 33, 222, 14, and 25], what is list1 [-1]? "
   ]
  },
  {
   "cell_type": "code",
   "execution_count": 1,
   "id": "253465d2-6a11-4687-acb0-124d09bdf786",
   "metadata": {},
   "outputs": [
    {
     "data": {
      "text/plain": [
       "25"
      ]
     },
     "execution_count": 1,
     "metadata": {},
     "output_type": "execute_result"
    }
   ],
   "source": [
    "list1 = [2,33,222,14,25]\n",
    "\n",
    "list1[-1]"
   ]
  },
  {
   "cell_type": "markdown",
   "id": "b49871a4-bc27-47ea-9f56-dc660dd0bf11",
   "metadata": {},
   "source": [
    "## Q 28:-Differentiate between append () and extend () methods? "
   ]
  },
  {
   "cell_type": "markdown",
   "id": "17283128-7716-4338-9836-0f03e36b94cc",
   "metadata": {},
   "source": [
    "Ans:- In List both append() and extend () methods are used to add elements. But they work differently.\n",
    "\n",
    "      Append() Method:\n",
    "            ~ It adds a single element to the end of the list.\n",
    "            ~ If you append a list,it will be added as a single element (nested list).\n",
    "            ~ Modifies the original list.\n",
    "            ~ Increases length by 1.\n",
    "      Extend() Method:\n",
    "            ~ Adds multiple elements from an iterable (e.g. list,tuple,string)to the end of the list.\n",
    "            ~ Modifies the original list. \n",
    "            ~ Increases length by number of items in iterable."
   ]
  },
  {
   "cell_type": "markdown",
   "id": "5bc4ff1b-d5ff-4985-a86c-b3fd77923b50",
   "metadata": {},
   "source": [
    "## Q 29:-Write a Python function to get the largest number, smallest num and sum of all from a list."
   ]
  },
  {
   "cell_type": "code",
   "execution_count": 2,
   "id": "fda02a79-d9a9-4bf5-b49f-ee984c50cde9",
   "metadata": {},
   "outputs": [
    {
     "name": "stdout",
     "output_type": "stream",
     "text": [
      "largest number from a list is : 900\n",
      "smallest number from a list is : 25\n",
      "sum of all from a list is : 2589\n"
     ]
    }
   ],
   "source": [
    "def list_of_states(lst):\n",
    "    largest = max(lst)\n",
    "    smallest = min(lst)\n",
    "    total_sum = sum(lst)\n",
    "\n",
    "    return largest, smallest, total_sum\n",
    "\n",
    "list = [100,500,750,50,64,900,25,200]\n",
    "largest, smallest, total_sum = list_of_states(list)\n",
    "print(f\"largest number from a list is : {largest}\")\n",
    "print(f\"smallest number from a list is : {smallest}\")\n",
    "print(f\"sum of all from a list is : {total_sum}\")"
   ]
  },
  {
   "cell_type": "markdown",
   "id": "f3af42f4-2a67-4634-ad0b-d0d3175d81ca",
   "metadata": {},
   "source": [
    "## Q 30:-How will you compare two lists?"
   ]
  },
  {
   "cell_type": "code",
   "execution_count": 79,
   "id": "8fc55747-a952-4c91-8421-890ccfec2229",
   "metadata": {},
   "outputs": [
    {
     "name": "stdout",
     "output_type": "stream",
     "text": [
      "The lists are equal.\n"
     ]
    }
   ],
   "source": [
    "# 1. Equality Comparison (==) If you want to check if two lists are exactly the same (same length, same elements in the same order):\n",
    "list1 = [1, 2, 3]\n",
    "list2 = [1, 2, 3]\n",
    "\n",
    "if list1 == list2:\n",
    "    print(\"The lists are equal.\")\n",
    "else:\n",
    "    print(\"The lists are not equal.\")"
   ]
  },
  {
   "cell_type": "code",
   "execution_count": 80,
   "id": "7596b885-cac3-4b11-8acb-2e398a9d24a6",
   "metadata": {},
   "outputs": [
    {
     "name": "stdout",
     "output_type": "stream",
     "text": [
      "The lists have the same elements, but order doesn't matter.\n"
     ]
    }
   ],
   "source": [
    "# 2. Check for Similarity (Ignoring Order) If you want to check if the lists contain the same elements, but order doesn't matter, you can sort them first or use a set comparison:\n",
    "\n",
    "list1 = [1, 2, 3]\n",
    "list2 = [3, 2, 1]\n",
    "\n",
    "if sorted(list1) == sorted(list2):\n",
    "    print(\"The lists have the same elements, but order doesn't matter.\")\n",
    "else:\n",
    "    print(\"The lists are not the same.\")"
   ]
  },
  {
   "cell_type": "code",
   "execution_count": 81,
   "id": "aa2a076f-d352-4e31-a8e9-9c4b187cac98",
   "metadata": {},
   "outputs": [
    {
     "name": "stdout",
     "output_type": "stream",
     "text": [
      "The lists have the same unique elements.\n"
     ]
    }
   ],
   "source": [
    "# Or, with sets:\n",
    "if set(list1) == set(list2):\n",
    "    print(\"The lists have the same unique elements.\")\n",
    "else:\n",
    "    print(\"The lists are not the same.\")"
   ]
  },
  {
   "cell_type": "code",
   "execution_count": 82,
   "id": "22cd40ee-b6d3-4661-9b47-384f16f840d6",
   "metadata": {},
   "outputs": [
    {
     "name": "stdout",
     "output_type": "stream",
     "text": [
      "Difference at index 1: 2 != 4\n"
     ]
    }
   ],
   "source": [
    "# 3. Element-wise Comparison , If you want to compare the lists element by element and find the indices where they differ:\n",
    "\n",
    "list1 = [1, 2, 3]\n",
    "list2 = [1, 4, 3]\n",
    "\n",
    "for i in range(len(list1)):\n",
    "    if list1[i] != list2[i]:\n",
    "        print(f\"Difference at index {i}: {list1[i]} != {list2[i]}\")"
   ]
  },
  {
   "cell_type": "markdown",
   "id": "d3e1e2da-6f71-4630-9bd5-af463d918c68",
   "metadata": {},
   "source": [
    "## Q 31:- Write a Python program to count the number of strings where the string length is 2 or more and the first and last character are same from a given list of strings. \n"
   ]
  },
  {
   "cell_type": "code",
   "execution_count": 130,
   "id": "fc3dc6ca-581f-4655-b9aa-afa316d54c29",
   "metadata": {},
   "outputs": [
    {
     "name": "stdout",
     "output_type": "stream",
     "text": [
      "Number of strings where the first and last characters are the same: 4\n"
     ]
    }
   ],
   "source": [
    "string_list = [\"level\", \"world\", \"noon\", \"python\", \"wow\", \"a\", \"bob\"]\n",
    "count = 0\n",
    "\n",
    "for string in string_list:\n",
    "    if len(string) >= 2 and string[0] == string[-1]:\n",
    "        count += 1\n",
    "        \n",
    "print(\"Number of strings where the first and last characters are the same:\", count)"
   ]
  },
  {
   "cell_type": "markdown",
   "id": "71ce7603-73de-48ec-8a35-aa7eb8cd2b61",
   "metadata": {},
   "source": [
    "## Q 32:-Write a Python program to remove duplicates from a list."
   ]
  },
  {
   "cell_type": "code",
   "execution_count": 132,
   "id": "2c567e97-3a45-4701-b651-3bd4ea955d06",
   "metadata": {},
   "outputs": [
    {
     "name": "stdout",
     "output_type": "stream",
     "text": [
      "List after removing duplicates: [1, 2, 3, 4, 5, 6]\n"
     ]
    }
   ],
   "source": [
    "input_list = [1, 2, 2, 3, 4, 4, 5, 5, 6]\n",
    "unique_list = list(set(input_list))\n",
    "\n",
    "print(\"List after removing duplicates:\", unique_list)"
   ]
  },
  {
   "cell_type": "markdown",
   "id": "7a359045-348b-4975-9a67-d58aa9e48f47",
   "metadata": {},
   "source": [
    "## Q 33:-Write a Python program to check a list is empty or not. "
   ]
  },
  {
   "cell_type": "code",
   "execution_count": 135,
   "id": "c2fd5066-4889-4658-b400-c41469cce945",
   "metadata": {},
   "outputs": [
    {
     "name": "stdout",
     "output_type": "stream",
     "text": [
      "The list is empty.\n"
     ]
    }
   ],
   "source": [
    "my_list = []\n",
    "\n",
    "if not my_list:\n",
    "    print(\"The list is empty.\")\n",
    "else:\n",
    "    print(\"The list is not empty.\")"
   ]
  },
  {
   "cell_type": "markdown",
   "id": "c1c4a16d-ea92-4f11-94d8-089109803b5a",
   "metadata": {},
   "source": [
    "## Q 34:-Write a Python function that takes two lists and returns true if they have at least one common member."
   ]
  },
  {
   "cell_type": "code",
   "execution_count": 16,
   "id": "2ea68419-0b82-4e1a-bab9-c72b21434e4f",
   "metadata": {},
   "outputs": [
    {
     "name": "stdout",
     "output_type": "stream",
     "text": [
      "Do the lists have at least one common member? True\n"
     ]
    }
   ],
   "source": [
    "def is_common_member(list1,list2):\n",
    "    return bool(set(list1) & set(list2))\n",
    "\n",
    "list1 = [1,2,3,4,5,6]\n",
    "list2 = [5,6,7,8,9,10]\n",
    "result = is_common_member(list1,list2)\n",
    "print(f\"Do the lists have at least one common member? {result}\") "
   ]
  },
  {
   "cell_type": "markdown",
   "id": "2cdd4ea4-3742-4816-b49e-930a792a21ba",
   "metadata": {},
   "source": [
    "## Q 35:-Write a Python program to generate and print a list of first and last 5 elements where the values are square of numbers between 1 and 30."
   ]
  },
  {
   "cell_type": "code",
   "execution_count": 136,
   "id": "d0a13b97-5d32-4c1a-b892-64feef877ca9",
   "metadata": {},
   "outputs": [
    {
     "name": "stdout",
     "output_type": "stream",
     "text": [
      "First and last 5 elements (squares of numbers between 1 and 30):\n",
      "[1, 4, 9, 16, 25, 676, 729, 784, 841, 900]\n"
     ]
    }
   ],
   "source": [
    "squares = [x**2 for x in range(1, 31)]\n",
    "first_last_5 = squares[:5] + squares[-5:]\n",
    "\n",
    "print(\"First and last 5 elements (squares of numbers between 1 and 30):\")\n",
    "print(first_last_5)"
   ]
  },
  {
   "cell_type": "markdown",
   "id": "5db105de-2ad5-454c-835b-0d0f8d32e44b",
   "metadata": {},
   "source": [
    "## Q 36:-Write a Python function that takes a list and returns a new list with unique elements of the first list."
   ]
  },
  {
   "cell_type": "code",
   "execution_count": 137,
   "id": "dc3d51d7-7e0e-47cb-80b4-53c68dba43bd",
   "metadata": {},
   "outputs": [
    {
     "name": "stdout",
     "output_type": "stream",
     "text": [
      "List with unique elements is : [1, 2, 3, 4, 5]\n"
     ]
    }
   ],
   "source": [
    "def unique_list(lst):\n",
    "    return list(set(lst))\n",
    "    \n",
    "lis = [1,4,2,5,1,3,4,5,]\n",
    "result = unique_list(lis)\n",
    "print(f\"List with unique elements is : {result}\")"
   ]
  },
  {
   "cell_type": "markdown",
   "id": "d8f83a64-7079-4363-ab8d-1b3b4592adb9",
   "metadata": {},
   "source": [
    "## Q 37:-Write a Python program to convert a list of characters into a string."
   ]
  },
  {
   "cell_type": "code",
   "execution_count": 138,
   "id": "83ff2ea1-71ee-4e2d-935d-8f7aa4566573",
   "metadata": {},
   "outputs": [
    {
     "name": "stdout",
     "output_type": "stream",
     "text": [
      "The resulting string is: Hello\n"
     ]
    }
   ],
   "source": [
    "char_list = ['H', 'e', 'l', 'l', 'o']\n",
    "\n",
    "result_string = ''.join(char_list)\n",
    "\n",
    "print(\"The resulting string is:\", result_string)"
   ]
  },
  {
   "cell_type": "markdown",
   "id": "f8f50e81-7246-49b6-b73d-0a8423581ab6",
   "metadata": {},
   "source": [
    "## Q 38:-Write a Python program to select an item randomly from a list."
   ]
  },
  {
   "cell_type": "code",
   "execution_count": 144,
   "id": "c8a14a39-e115-4c34-a7cf-9859e58c0a52",
   "metadata": {},
   "outputs": [
    {
     "name": "stdout",
     "output_type": "stream",
     "text": [
      "Randomly selected item: banana\n"
     ]
    }
   ],
   "source": [
    "import random\n",
    "\n",
    "item_list = [1, 2, 3, 4, 5, \"apple\", \"banana\", \"cherry\"]\n",
    "\n",
    "random_item = random.choice(item_list)\n",
    "\n",
    "print(\"Randomly selected item:\", random_item)"
   ]
  },
  {
   "cell_type": "markdown",
   "id": "bca1dfe2-7d13-45a5-ae28-150c59e8664f",
   "metadata": {},
   "source": [
    "## Q 39:-Write a Python program to find the second smallest number in a list."
   ]
  },
  {
   "cell_type": "code",
   "execution_count": 146,
   "id": "951a43ec-35a8-43e9-abaa-97fb79999d04",
   "metadata": {},
   "outputs": [
    {
     "name": "stdout",
     "output_type": "stream",
     "text": [
      "The second smallest number is: 15\n"
     ]
    }
   ],
   "source": [
    "nums = [10,80,20,70,90,60,15]\n",
    "\n",
    "unique_sorted_list = sorted(set(nums))\n",
    "\n",
    "if len(unique_sorted_list) >= 2:\n",
    "    second_smallest = unique_sorted_list[1]\n",
    "    print(\"The second smallest number is:\", second_smallest)\n",
    "else:\n",
    "    print(\"The list does not have a second smallest number.\")"
   ]
  },
  {
   "cell_type": "markdown",
   "id": "4465eb1e-25fe-4f7e-83fa-106be3fdc0fc",
   "metadata": {},
   "source": [
    "## Q 40:-Write a Python program to get unique values from a list."
   ]
  },
  {
   "cell_type": "code",
   "execution_count": 147,
   "id": "bda8794f-4c15-45af-aba8-cb99aad56949",
   "metadata": {},
   "outputs": [
    {
     "name": "stdout",
     "output_type": "stream",
     "text": [
      "Unique values in the list: [1, 2, 3, 4, 5, 6]\n"
     ]
    }
   ],
   "source": [
    "nums = [1, 2, 2, 3, 4, 4, 5, 6, 6]\n",
    "unique_values = list(set(nums))\n",
    "print(\"Unique values in the list:\", unique_values)"
   ]
  },
  {
   "cell_type": "markdown",
   "id": "af5b0a3c-1956-4683-ac56-12a68d9f82a3",
   "metadata": {},
   "source": [
    "## Q 41:-Write a Python program to check whether a list contains a sub list."
   ]
  },
  {
   "cell_type": "code",
   "execution_count": 156,
   "id": "689d30fa-53e4-4216-9484-6a0afdcfe0f6",
   "metadata": {
    "scrolled": true
   },
   "outputs": [
    {
     "name": "stdout",
     "output_type": "stream",
     "text": [
      "True\n"
     ]
    }
   ],
   "source": [
    "def is_contains_sublist(list1,list2):\n",
    "    for i in range(len(sup_list) - len(sub_list) + 1):\n",
    "        if sup_list[i:i + len(sub_list)] == sub_list:\n",
    "            return True\n",
    "    return False\n",
    "\n",
    "sup_list = [1,2,3,4,5,6,7,8,9,10]\n",
    "sub_list = [4,5,6,7,8]\n",
    "\n",
    "print(is_contains_sublist(sup_list, sub_list))"
   ]
  },
  {
   "cell_type": "markdown",
   "id": "135ecda2-bd78-4bc5-851d-5986d1422de1",
   "metadata": {},
   "source": [
    "## Q 42:-Write a Python program to split a list into different variables."
   ]
  },
  {
   "cell_type": "code",
   "execution_count": 83,
   "id": "db2045ac-eed8-4488-bc29-c6656b13a1a0",
   "metadata": {},
   "outputs": [
    {
     "name": "stdout",
     "output_type": "stream",
     "text": [
      "a: 1\n",
      "b: 2\n",
      "c: 3\n",
      "d: 4\n",
      "e: 5\n"
     ]
    }
   ],
   "source": [
    "nums = [1, 2, 3, 4, 5]\n",
    "\n",
    "a, b, c, d, e = nums\n",
    "\n",
    "print(\"a:\", a)\n",
    "print(\"b:\", b)\n",
    "print(\"c:\", c)\n",
    "print(\"d:\", d)\n",
    "print(\"e:\", e)"
   ]
  },
  {
   "cell_type": "markdown",
   "id": "d13ebe06-95af-4c91-a688-6feb0c39156d",
   "metadata": {},
   "source": [
    "## Q 43:-What is tuple? Difference between list and tuple."
   ]
  },
  {
   "cell_type": "markdown",
   "id": "fcc08ccc-7fb3-406e-ad4f-adeda5ae3bdb",
   "metadata": {},
   "source": [
    "Ans:-A tuple is an ordered, immutable (unchangeable) collection in Python. It is used to store multiple items in a single variable.\n",
    "     Tuples are defined using parentheses () and can hold elements of different data types.\n",
    "\n",
    "     Key Differences:-\n",
    "\n",
    "     List:-                                                                            \n",
    "          ~ List is mutable.                                                                   \n",
    "          ~ It is defined using square brackets [].                                            \n",
    "          ~ Uses more memory(due to extra operations)                                          \n",
    "          ~ Methods used like append(),remove(),pop(),etc.                                     \n",
    "          ~ Use when frequent modifications are needed.                                        \n",
    "\n",
    "     Tuple:-\n",
    "          ~ Tuple is immutable.\n",
    "          ~ It is defined using parentheses ()\n",
    "          ~ Uses less memory as tuple is immutable\n",
    "          ~ Methods used like count(), index()\n",
    "          ~ Use when data shouldremain unchanged."
   ]
  },
  {
   "cell_type": "markdown",
   "id": "18bf6a70-3d2f-4908-ad23-38f6e868f791",
   "metadata": {},
   "source": [
    "## Q 44:-Write a Python program to create a tuple with different data types."
   ]
  },
  {
   "cell_type": "code",
   "execution_count": 46,
   "id": "5ffcf786-bc5c-47c5-9579-1b57362c717d",
   "metadata": {},
   "outputs": [
    {
     "name": "stdout",
     "output_type": "stream",
     "text": [
      "The tuple is : (1, 'Hello!', 2.5, False, (6+5j), None)\n",
      "<class 'int'> 1\n",
      "<class 'str'> Hello!\n",
      "<class 'float'> 2.5\n",
      "<class 'bool'> False\n",
      "<class 'complex'> (6+5j)\n",
      "<class 'NoneType'> None\n"
     ]
    }
   ],
   "source": [
    "hetro_tuple = (1,\"Hello!\",2.5,False,6+5j,None)\n",
    "\n",
    "print(f\"The tuple is : {hetro_tuple}\")\n",
    "\n",
    "for i in hetro_tuple:\n",
    "    print(type(i), i)"
   ]
  },
  {
   "cell_type": "markdown",
   "id": "3f8e4d8a-e54f-4b17-85cc-9daa58ca4ae2",
   "metadata": {},
   "source": [
    "## Q 45:-Write a Python program to unzip a list of tuples into individual lists."
   ]
  },
  {
   "cell_type": "code",
   "execution_count": 157,
   "id": "0501df79-d98f-433f-958e-e388d8380399",
   "metadata": {},
   "outputs": [
    {
     "name": "stdout",
     "output_type": "stream",
     "text": [
      "First list: [1, 2, 3]\n",
      "Second list: ['a', 'b', 'c']\n"
     ]
    }
   ],
   "source": [
    "tuple_list = [(1, 'a'), (2, 'b'), (3, 'c')]\n",
    "\n",
    "list1, list2 = zip(*tuple_list)\n",
    "\n",
    "list1 = list(list1)\n",
    "list2 = list(list2)\n",
    "\n",
    "print(\"First list:\", list1)\n",
    "print(\"Second list:\", list2)"
   ]
  },
  {
   "cell_type": "markdown",
   "id": "f4c9cae0-0719-458d-b55a-f17eba0aa358",
   "metadata": {},
   "source": [
    "## Q 46:-Write a Python program to convert a list of tuples into a dictionary."
   ]
  },
  {
   "cell_type": "code",
   "execution_count": 158,
   "id": "3037b810-9993-42f3-8679-a2abb28fc045",
   "metadata": {},
   "outputs": [
    {
     "name": "stdout",
     "output_type": "stream",
     "text": [
      "Converted dictionary: {'a': 1, 'b': 2, 'c': 3, 'd': 4}\n"
     ]
    }
   ],
   "source": [
    "tuple_list = [('a', 1), ('b', 2), ('c', 3), ('d', 4)]\n",
    "\n",
    "tuple_dict = dict(tuple_list)\n",
    "\n",
    "print(\"Converted dictionary:\", tuple_dict)"
   ]
  },
  {
   "cell_type": "markdown",
   "id": "de0aa583-297d-4b5f-bade-4f7506ebdef9",
   "metadata": {},
   "source": [
    "## Q 47:-How will you create a dictionary using tuples in python? "
   ]
  },
  {
   "cell_type": "code",
   "execution_count": 159,
   "id": "beb194e7-85a2-4f95-873d-5165d6b4e58e",
   "metadata": {},
   "outputs": [
    {
     "name": "stdout",
     "output_type": "stream",
     "text": [
      "{'a': 1, 'b': 2, 'c': 3}\n"
     ]
    }
   ],
   "source": [
    "# Using dict() \n",
    "tuple_list1 = [('a',1),('b',2),('c',3)]\n",
    "dictionary = dict(tuple_list1)\n",
    "print(dictionary)"
   ]
  },
  {
   "cell_type": "code",
   "execution_count": 8,
   "id": "32bd5d23-5098-491b-9a1d-98a2d497d007",
   "metadata": {},
   "outputs": [
    {
     "name": "stdout",
     "output_type": "stream",
     "text": [
      "{'a': 1, 'b': 2, 'c': 3}\n"
     ]
    }
   ],
   "source": [
    "# Using for loop:\n",
    "tuple_list1 = [('a',1),('b',2),('c',3)]\n",
    "dict_1 = {}\n",
    "for i in range(len(tuple_list1)):\n",
    "    key = tuple_list1[i][0]\n",
    "    value = tuple_list1[i][1]\n",
    "    dict_1[key] = value\n",
    "print(dict_1)  "
   ]
  },
  {
   "cell_type": "code",
   "execution_count": 9,
   "id": "7c28e5d4-c38c-405a-bf46-52c6771c66fe",
   "metadata": {},
   "outputs": [
    {
     "name": "stdout",
     "output_type": "stream",
     "text": [
      "{'a': 1, 'b': 2, 'c': 3}\n"
     ]
    }
   ],
   "source": [
    "# Using zip():\n",
    "keys = ('a','b','c')\n",
    "values = (1,2,3)\n",
    "\n",
    "dictionary = dict(zip(keys,values))\n",
    "print(dictionary)"
   ]
  },
  {
   "cell_type": "markdown",
   "id": "3e91b741-9913-449b-ad6f-d3ca80c816e3",
   "metadata": {},
   "source": [
    "## Q 48:-Write a Python script to sort (ascending and descending) a dictionary by value."
   ]
  },
  {
   "cell_type": "code",
   "execution_count": 160,
   "id": "2e200fe2-1dc1-4ab0-808a-3c00fb86e175",
   "metadata": {},
   "outputs": [
    {
     "name": "stdout",
     "output_type": "stream",
     "text": [
      "Dictionary sorted by value in ascending order: {'banana': 5, 'apple': 10, 'date': 15, 'cherry': 20}\n",
      "Dictionary sorted by value in descending order: {'cherry': 20, 'date': 15, 'apple': 10, 'banana': 5}\n"
     ]
    }
   ],
   "source": [
    "fruit_dict = {'apple': 10, 'banana': 5, 'cherry': 20, 'date': 15}\n",
    "\n",
    "ascending_sorted = dict(sorted(fruit_dict.items(), key=lambda item: item[1]))\n",
    "\n",
    "descending_sorted = dict(sorted(fruit_dict.items(), key=lambda item: item[1], reverse=True))\n",
    "\n",
    "print(\"Dictionary sorted by value in ascending order:\", ascending_sorted)\n",
    "print(\"Dictionary sorted by value in descending order:\", descending_sorted)\n"
   ]
  },
  {
   "cell_type": "markdown",
   "id": "515c3ea2-d0f8-4190-b562-b1d53a49201a",
   "metadata": {},
   "source": [
    "## Q 49:-Write a Python script to concatenate following dictionaries to create a new one."
   ]
  },
  {
   "cell_type": "code",
   "execution_count": 161,
   "id": "76369891-bf59-4f5c-8fe5-a2eff763b12f",
   "metadata": {},
   "outputs": [
    {
     "name": "stdout",
     "output_type": "stream",
     "text": [
      "Concatenated dictionary: {'a': 1, 'b': 2, 'c': 3, 'd': 4, 'e': 5, 'f': 6}\n"
     ]
    }
   ],
   "source": [
    "dict1 = {'a': 1, 'b': 2}\n",
    "dict2 = {'c': 3, 'd': 4}\n",
    "dict3 = {'e': 5, 'f': 6}\n",
    "\n",
    "concatenated_dict = {**dict1, **dict2, **dict3}\n",
    "\n",
    "print(\"Concatenated dictionary:\", concatenated_dict)"
   ]
  },
  {
   "cell_type": "markdown",
   "id": "f7e6f4f9-1d3f-44d1-8ed0-5741ee45ba31",
   "metadata": {},
   "source": [
    "## Q 50:-Write a Python script to check if a given key already exists in a dictionary."
   ]
  },
  {
   "cell_type": "code",
   "execution_count": 163,
   "id": "07bbf98d-cef7-4400-916e-f049dfa484c2",
   "metadata": {},
   "outputs": [
    {
     "name": "stdout",
     "output_type": "stream",
     "text": [
      "The key 'banana' exists in the dictionary.\n"
     ]
    }
   ],
   "source": [
    "fruit_dict = {'apple': 10, 'banana': 5, 'cherry': 20}\n",
    "\n",
    "key_to_check = 'banana'\n",
    "\n",
    "if key_to_check in fruit_dict:\n",
    "    print(f\"The key '{key_to_check}' exists in the dictionary.\")\n",
    "else:\n",
    "    print(f\"The key '{key_to_check}' does not exist in the dictionary.\")"
   ]
  },
  {
   "cell_type": "markdown",
   "id": "0153ccc7-800b-400f-adc7-52d9516d6efa",
   "metadata": {},
   "source": [
    "## Q 51:-How Do You Traverse Through a Dictionary Object in Python?"
   ]
  },
  {
   "cell_type": "code",
   "execution_count": 10,
   "id": "c356e67d-13b5-4482-af61-0088f052c066",
   "metadata": {},
   "outputs": [
    {
     "name": "stdout",
     "output_type": "stream",
     "text": [
      "Name : Shubham\n",
      "age : 22\n",
      "City : Kadi\n"
     ]
    }
   ],
   "source": [
    "# Iterating Through Keys:\n",
    "\n",
    "my_dict = {'Name':'Shubham','age':22,'City':'Kadi'}\n",
    "for key in my_dict:\n",
    "    print(key,\":\", my_dict[key])"
   ]
  },
  {
   "cell_type": "code",
   "execution_count": 12,
   "id": "37d6cad2-0176-4bb6-a74c-d9446504fad5",
   "metadata": {},
   "outputs": [
    {
     "name": "stdout",
     "output_type": "stream",
     "text": [
      "Name : Shubham\n",
      "age : 22\n",
      "City : Kadi\n"
     ]
    }
   ],
   "source": [
    "# Iterating Through Values:\n",
    " \n",
    "my_dict = {'Name':'Shubham','age':22,'City':'Kadi'}\n",
    "for values in my_dict:\n",
    "    print(values,\":\",my_dict[values])"
   ]
  },
  {
   "cell_type": "markdown",
   "id": "a7202756-ccfc-4065-aaed-e20633a5d78d",
   "metadata": {},
   "source": [
    "## Q 52:-How Do You Check the Presence of a Key in A Dictionary? "
   ]
  },
  {
   "cell_type": "code",
   "execution_count": 13,
   "id": "c3694249-7b27-4954-8b1c-94464fe051d4",
   "metadata": {},
   "outputs": [
    {
     "name": "stdout",
     "output_type": "stream",
     "text": [
      "Name is present in dictionary.\n"
     ]
    }
   ],
   "source": [
    "my_dict = {'Name':'Shubham','Age':22,'City':'Kadi'}\n",
    "presence_key = 'Name'\n",
    "\n",
    "if presence_key in my_dict:\n",
    "    print(f\"{presence_key} is present in dictionary.\")\n",
    "else:\n",
    "    print(f\"{presence_key} is not present in dictionary.\")  "
   ]
  },
  {
   "cell_type": "markdown",
   "id": "e46571ee-206d-4d1a-9899-aa7467b27185",
   "metadata": {},
   "source": [
    "## Q 53:-Write a Python script to print a dictionary where the keys are numbers between 1 and 15. "
   ]
  },
  {
   "cell_type": "code",
   "execution_count": 164,
   "id": "d9c8d621-545c-4040-a4a0-27203b156b87",
   "metadata": {},
   "outputs": [
    {
     "name": "stdout",
     "output_type": "stream",
     "text": [
      "Dictionary with keys between 1 and 15: {1: 1, 2: 2, 3: 3, 4: 4, 5: 5, 6: 6, 7: 7, 8: 8, 9: 9, 10: 10, 11: 11, 12: 12, 13: 13, 14: 14, 15: 15}\n"
     ]
    }
   ],
   "source": [
    "dict1 = {i: i for i in range(1, 16)}\n",
    "\n",
    "print(\"Dictionary with keys between 1 and 15:\",dict1)"
   ]
  },
  {
   "cell_type": "markdown",
   "id": "31fe887b-3f1e-4145-928c-18b9c91fa582",
   "metadata": {},
   "source": [
    "## Q 54:-Write a Python program to check multiple keys exists in a dictionary."
   ]
  },
  {
   "cell_type": "code",
   "execution_count": 167,
   "id": "0697f42a-1a55-415f-97a9-4a572415a498",
   "metadata": {},
   "outputs": [
    {
     "name": "stdout",
     "output_type": "stream",
     "text": [
      "Not all keys exist in the dictionary.\n"
     ]
    }
   ],
   "source": [
    "fruit_dict = {'apple': 10, 'banana': 5, 'cherry': 20, 'date': 15}\n",
    "\n",
    "keys_to_check = ['apple', 'banana', 'kiwi']\n",
    "\n",
    "if all(key in fruit_dict for key in keys_to_check):\n",
    "    print(\"All keys exist in the dictionary.\")\n",
    "else:\n",
    "    print(\"Not all keys exist in the dictionary.\")"
   ]
  },
  {
   "cell_type": "markdown",
   "id": "5a1b4039-0d9a-4779-9f66-588684798128",
   "metadata": {},
   "source": [
    "## Q 55:-Write a Python script to merge two Python dictionaries."
   ]
  },
  {
   "cell_type": "code",
   "execution_count": 168,
   "id": "7a22223c-f731-4f75-8893-b1bf4fe5eb38",
   "metadata": {},
   "outputs": [
    {
     "name": "stdout",
     "output_type": "stream",
     "text": [
      "Merged dictionary: {'a': 1, 'b': 2, 'c': 3, 'd': 4}\n"
     ]
    }
   ],
   "source": [
    "dict1 = {'a': 1, 'b': 2}\n",
    "dict2 = {'c': 3, 'd': 4}\n",
    "\n",
    "dict1.update(dict2)\n",
    "\n",
    "print(\"Merged dictionary:\", dict1) "
   ]
  },
  {
   "cell_type": "markdown",
   "id": "dcc45993-76f0-4df1-9be2-ae6c7f404551",
   "metadata": {},
   "source": [
    "## Q 56:-Write a Python program to map two lists into a dictionary Sample output: \n",
    "            Counter ({'a': 400, 'b': 400,’d’: 400, 'c': 300})."
   ]
  },
  {
   "cell_type": "code",
   "execution_count": 169,
   "id": "d5db03cf-8091-4e1f-bd98-4ba7232fe1fd",
   "metadata": {},
   "outputs": [
    {
     "name": "stdout",
     "output_type": "stream",
     "text": [
      "Mapped dictionary: Counter({'a': 400, 'b': 400, 'd': 400, 'c': 300})\n"
     ]
    }
   ],
   "source": [
    "from collections import Counter\n",
    "\n",
    "keys = ['a', 'b', 'c', 'a', 'b', 'd', 'a', 'd', 'b', 'd']\n",
    "values = [400, 400, 300, 400, 400, 400, 400, 400, 400, 400]\n",
    "\n",
    "mapped_dict = Counter(dict(zip(keys, values)))\n",
    "\n",
    "print(\"Mapped dictionary:\", mapped_dict)"
   ]
  },
  {
   "cell_type": "markdown",
   "id": "eaf031ba-533d-408f-8e13-71fd4165f12b",
   "metadata": {},
   "source": [
    "## Q 57:-Write a Python program to find the highest 3 values in a dictionary."
   ]
  },
  {
   "cell_type": "code",
   "execution_count": 171,
   "id": "dad5868a-7fbf-4d72-b6b1-14285e26aee7",
   "metadata": {},
   "outputs": [
    {
     "name": "stdout",
     "output_type": "stream",
     "text": [
      "Highest 3 values: [('grape', 30), ('fig', 25), ('cherry', 20)]\n"
     ]
    }
   ],
   "source": [
    "fruit_dict = {'apple': 10, 'banana': 5, 'cherry': 20, 'date': 15, 'fig': 25, 'grape': 30}\n",
    "\n",
    "sorted_values = sorted(fruit_dict.items(), key=lambda item: item[1], reverse=True)\n",
    "\n",
    "highest_values = sorted_values[:3]\n",
    "\n",
    "print(\"Highest 3 values:\", highest_values)"
   ]
  },
  {
   "cell_type": "markdown",
   "id": "fe108463-9899-44f4-a001-f38343e20683",
   "metadata": {},
   "source": [
    "## Q 58:-Write a Python program to combine values in python list of dictionaries. \n",
    "            Sample data: [{'item': 'item1', 'amount': 400}, {'item': 'item2', 'amount': 300}, {'item': 'item1', 'amount': 750}] \n",
    "           \n",
    "            Expected Output: Counter ({'item1': 1150, 'item2': 300})\n"
   ]
  },
  {
   "cell_type": "code",
   "execution_count": 68,
   "id": "3d2dddc9-5c3d-456c-87db-a58ecb0f0a3a",
   "metadata": {},
   "outputs": [
    {
     "name": "stdout",
     "output_type": "stream",
     "text": [
      "Counter({'item1': 1150, 'item2': 300})\n"
     ]
    }
   ],
   "source": [
    "from collections import Counter\n",
    "\n",
    "data = [{'item': 'item1', 'amount': 400}, {'item': 'item2', 'amount': 300}, {'item': 'item1', 'amount': 750}]\n",
    "\n",
    "result = Counter()\n",
    "\n",
    "for entry in data:\n",
    "    result[entry['item']] += entry['amount']\n",
    "\n",
    "print(result)"
   ]
  },
  {
   "cell_type": "markdown",
   "id": "d59f8988-bfd3-494b-99ef-f782bb72f1f5",
   "metadata": {},
   "source": [
    "## Q 59:-Write a Python program to create a dictionary from a string. \n",
    "         Note: Track the count of the letters from the string. "
   ]
  },
  {
   "cell_type": "code",
   "execution_count": 84,
   "id": "b1d99405-51fd-4202-89dd-e1e9098f08ea",
   "metadata": {},
   "outputs": [
    {
     "name": "stdout",
     "output_type": "stream",
     "text": [
      "Letter count dictionary: {'p': 1, 'r': 2, 'o': 1, 'g': 2, 'a': 1, 'm': 2, 'i': 1, 'n': 1}\n"
     ]
    }
   ],
   "source": [
    "input_string = \"programming\"\n",
    "letter_count = {}\n",
    "\n",
    "for char in input_string:\n",
    "    if char in letter_count:\n",
    "        letter_count[char] += 1\n",
    "    else:\n",
    "        letter_count[char] = 1\n",
    "        \n",
    "print(\"Letter count dictionary:\", letter_count)"
   ]
  },
  {
   "cell_type": "markdown",
   "id": "175a9a59-4ef9-4815-a6c8-80801e35955b",
   "metadata": {},
   "source": [
    "## Q 60:-Sample string:'w3resource' \n",
    "            Expected output: {'3': 1,'s': 1, 'r': 2, 'u': 1, 'w': 1, 'c': 1, 'e': 2, 'o': 1}\n"
   ]
  },
  {
   "cell_type": "code",
   "execution_count": 172,
   "id": "96fb9c76-cad4-473a-a8a1-25db74436c1f",
   "metadata": {},
   "outputs": [
    {
     "name": "stdout",
     "output_type": "stream",
     "text": [
      "Character frequency: {'w': 1, '3': 1, 'r': 2, 'e': 2, 's': 1, 'o': 1, 'u': 1, 'c': 1}\n"
     ]
    }
   ],
   "source": [
    "from collections import Counter\n",
    "\n",
    "s = 'w3resource'\n",
    "char_count = Counter(s)\n",
    "print(\"Character frequency:\", dict(char_count))"
   ]
  },
  {
   "cell_type": "markdown",
   "id": "33d5a0ec-ac5d-47bd-9bbb-7fcfdf472e5d",
   "metadata": {},
   "source": [
    "## Q 61:-Write a Python function to calculate the factorial of a number (a nonnegative integer)."
   ]
  },
  {
   "cell_type": "code",
   "execution_count": 74,
   "id": "73fd41d6-3bd3-4395-b885-a063753aa732",
   "metadata": {},
   "outputs": [
    {
     "name": "stdout",
     "output_type": "stream",
     "text": [
      "Factorial of 5 is : 120\n"
     ]
    }
   ],
   "source": [
    "def fact_of_num(n):\n",
    "    if n < 0:\n",
    "        return \"Factorial is not defined for negative numbers.\"\n",
    "\n",
    "    if n == 0 or  n == 1:\n",
    "        return 1\n",
    "\n",
    "    return n * fact_of_num(n-1)\n",
    "\n",
    "n = 5\n",
    "result = fact_of_num(n)\n",
    "print(f\"Factorial of {n} is : {result}\")"
   ]
  },
  {
   "cell_type": "markdown",
   "id": "2d6848ed-7468-484a-9636-8714bf2d756f",
   "metadata": {},
   "source": [
    "## Q 62:-Write a Python function to check whether a number is in a given range."
   ]
  },
  {
   "cell_type": "code",
   "execution_count": 79,
   "id": "f1543910-92d3-45ca-a004-8724692bf722",
   "metadata": {},
   "outputs": [
    {
     "name": "stdout",
     "output_type": "stream",
     "text": [
      "Is 10 in the range 1 to 20? True\n"
     ]
    }
   ],
   "source": [
    "def is_in_range(number, start, end):\n",
    "    if start <= number <= end:\n",
    "        return True\n",
    "    else:\n",
    "        return False\n",
    "\n",
    "number = 10\n",
    "start = 1\n",
    "end = 20\n",
    "\n",
    "print(f\"Is {number} in the range {start} to {end}? {is_in_range(number, start, end)}\")"
   ]
  },
  {
   "cell_type": "markdown",
   "id": "b2d65f9c-88cd-44d2-9ec5-83cdcfbc3f48",
   "metadata": {},
   "source": [
    "## Q 63:-Write a Python function to check whether a number is perfect or not."
   ]
  },
  {
   "cell_type": "code",
   "execution_count": 82,
   "id": "440ebe5b-7943-495f-bbac-e9949430a876",
   "metadata": {},
   "outputs": [
    {
     "name": "stdout",
     "output_type": "stream",
     "text": [
      "6 is a perfect number\n"
     ]
    }
   ],
   "source": [
    "def is_perfect_number(num):\n",
    "    if num <= 0:\n",
    "        return False\n",
    "        \n",
    "    divisors_sum = 0\n",
    "    for i in range(1, num):\n",
    "        if num % i == 0:\n",
    "            divisors_sum += i\n",
    "\n",
    "    return divisors_sum == num\n",
    "\n",
    "num = 6\n",
    "\n",
    "if is_perfect_number(num):\n",
    "    print(f\"{num} is a perfect number\")\n",
    "else:\n",
    "    print(f\"{num} is not a perfect number\")"
   ]
  },
  {
   "cell_type": "markdown",
   "id": "6533b3e2-39c9-444a-81ac-5440392ae6ac",
   "metadata": {},
   "source": [
    "## Q 64:-Write a Python function that checks whether a passed string is palindrome or not. \n"
   ]
  },
  {
   "cell_type": "code",
   "execution_count": 173,
   "id": "2eb30c4e-7267-4f97-88f7-7d2122b5a8e0",
   "metadata": {},
   "outputs": [
    {
     "name": "stdout",
     "output_type": "stream",
     "text": [
      "Enter your string: malayalam\n"
     ]
    },
    {
     "name": "stdout",
     "output_type": "stream",
     "text": [
      "A passed string is palindrome.\n"
     ]
    }
   ],
   "source": [
    "def is_palindrome(s):\n",
    "    flag = True\n",
    "    for i in range(0,len(s)//2):\n",
    "        if s[i] != s[len(s) - i - 1]:\n",
    "            flag = False\n",
    "            print(\"A passed string is not palindrome.\")\n",
    "            break\n",
    "    if flag:\n",
    "        print(\"A passed string is palindrome.\")\n",
    "\n",
    "string = input(\"Enter your string:\")\n",
    "is_palindrome(string)"
   ]
  },
  {
   "cell_type": "markdown",
   "id": "21d4526e-673b-40a7-a238-a509541bc618",
   "metadata": {},
   "source": [
    "## Q 65:-How Many Basic Types of Functions Are Available in Python?"
   ]
  },
  {
   "cell_type": "markdown",
   "id": "38a9e8ea-16bd-4c08-b6aa-a35b3a3ce3b7",
   "metadata": {},
   "source": [
    "Ans:- There are four basic types of Functions.\n",
    "\n",
    "     (1) Built-in Functions:\n",
    "          These are pre-defined functions in Python that are readily available.\n",
    "     (2) User-defined Functions:\n",
    "          These are functions created by the programmer using the def keyword.\n",
    "     (3) Lambda (Anonymous) Functions:\n",
    "          These are short, one-line functions without a name.\n",
    "     (4) Recursive Functions:\n",
    "          A function that calls itself to solve a problem."
   ]
  },
  {
   "cell_type": "markdown",
   "id": "ba1560e5-ed74-4347-ba4f-e541129324c5",
   "metadata": {},
   "source": [
    "## Q 66:-How can you pick a random item from a list or tuple?"
   ]
  },
  {
   "cell_type": "code",
   "execution_count": 22,
   "id": "469a6290-fcde-4d2b-9d42-cd35ea7b1b86",
   "metadata": {},
   "outputs": [
    {
     "name": "stdout",
     "output_type": "stream",
     "text": [
      "banana\n"
     ]
    }
   ],
   "source": [
    "import random\n",
    "\n",
    "fruits = [\"apple\", \"banana\", \"cherry\", \"grape\"]\n",
    "random_fruit = random.choice(fruits)\n",
    "\n",
    "print(random_fruit)  "
   ]
  },
  {
   "cell_type": "code",
   "execution_count": 23,
   "id": "d7ef3e98-051b-4437-b3d1-fcf2d7190a26",
   "metadata": {},
   "outputs": [
    {
     "name": "stdout",
     "output_type": "stream",
     "text": [
      "cherry\n"
     ]
    }
   ],
   "source": [
    "import random\n",
    "\n",
    "fruits = (\"apple\", \"banana\", \"cherry\", \"grape\")\n",
    "random_fruit = random.choice(fruits)\n",
    "\n",
    "print(random_fruit) "
   ]
  },
  {
   "cell_type": "markdown",
   "id": "4859fd28-9d55-405b-9a05-e875db663c63",
   "metadata": {},
   "source": [
    "## Q 67:-How can you pick a random item from a range?"
   ]
  },
  {
   "cell_type": "code",
   "execution_count": 33,
   "id": "ed3cf0f8-0d4b-49d5-948a-339587f40249",
   "metadata": {},
   "outputs": [
    {
     "name": "stdout",
     "output_type": "stream",
     "text": [
      "16\n"
     ]
    }
   ],
   "source": [
    "import random\n",
    "\n",
    "random_number = random.randrange(10, 20, 1)  \n",
    "print(random_number)  "
   ]
  },
  {
   "cell_type": "markdown",
   "id": "2b4b46df-9297-4252-b9d8-0dc281a601c8",
   "metadata": {},
   "source": [
    "## Q 68:-How can you get a random number in python?"
   ]
  },
  {
   "cell_type": "code",
   "execution_count": 36,
   "id": "d91b44c4-9e4b-4e31-a34f-607704b960c1",
   "metadata": {},
   "outputs": [
    {
     "name": "stdout",
     "output_type": "stream",
     "text": [
      "5\n"
     ]
    }
   ],
   "source": [
    "import random \n",
    "\n",
    "random_integer = random.randint(1,20)\n",
    "print(random_integer)"
   ]
  },
  {
   "cell_type": "markdown",
   "id": "5b495a9c-0c4d-4989-9d05-87833f306de8",
   "metadata": {},
   "source": [
    "## Q 69:-How will you set the starting value in generating random numbers?"
   ]
  },
  {
   "cell_type": "markdown",
   "id": "10cd4c5f-e269-420f-9fa2-aedfcf301c30",
   "metadata": {},
   "source": [
    "Ans:- In Python, you can set the starting value for generating random numbers by using a seed. The seed ensures that    the sequence of random numbers is reproducible. If you provide the same seed value every time, you'll get the same sequence of random numbers."
   ]
  },
  {
   "cell_type": "code",
   "execution_count": 94,
   "id": "c1048560-000e-4c1f-8006-393b5bbf6a00",
   "metadata": {},
   "outputs": [
    {
     "name": "stdout",
     "output_type": "stream",
     "text": [
      "82\n",
      "0.11133106816568039\n",
      "7.673954497838496\n"
     ]
    }
   ],
   "source": [
    "import random\n",
    "\n",
    "random.seed(42)\n",
    "\n",
    "print(random.randint(1, 100))\n",
    "print(random.random())\n",
    "print(random.uniform(1, 10))"
   ]
  },
  {
   "cell_type": "markdown",
   "id": "88b93530-f2e1-4fdc-b4cc-9226c549ac32",
   "metadata": {},
   "source": [
    "## Q 70:- How will you randomize the items of a list in place?"
   ]
  },
  {
   "cell_type": "code",
   "execution_count": 40,
   "id": "1ead7d21-f236-479a-a08f-fc83c4fb7198",
   "metadata": {},
   "outputs": [
    {
     "name": "stdout",
     "output_type": "stream",
     "text": [
      "[2, 3, 4, 1, 5]\n"
     ]
    }
   ],
   "source": [
    "import random\n",
    "my_list = [1, 2, 3, 4, 5]\n",
    "\n",
    "random.shuffle(my_list)\n",
    "print(my_list)"
   ]
  },
  {
   "cell_type": "markdown",
   "id": "b63946f0-8993-4041-ba2d-bd9485aea74f",
   "metadata": {},
   "source": [
    "## Q 71:-What is File function in python? What are keywords to create and write file."
   ]
  },
  {
   "cell_type": "markdown",
   "id": "4f98ade9-e93a-47c9-ab31-72c00979513a",
   "metadata": {},
   "source": [
    "Ans:- In Python, file functions allow you to work with files on your system. These functions enable you to open, read, write, close, and manipulate files.\n",
    "\n",
    "      Keywords to create and write:-\n",
    "        ~ 'w' (Write mode):\n",
    "              Creates a new file if it doesn't exist or overwrites the file if it does.\n",
    "        ~ 'a' (Append mode):\n",
    "              Opens the file for appending and creates a new file if it doesn't exist. "
   ]
  },
  {
   "cell_type": "markdown",
   "id": "ada9e440-893b-43cd-98e0-503cfc77e891",
   "metadata": {},
   "source": [
    "## Q 72:-Write a Python program to read an entire text file."
   ]
  },
  {
   "cell_type": "code",
   "execution_count": 174,
   "id": "320f307b-b457-4338-822d-491a4b91d2da",
   "metadata": {},
   "outputs": [
    {
     "name": "stdout",
     "output_type": "stream",
     "text": [
      "Apple\n",
      "Banana\n",
      "Cherry\n",
      "Mango\n",
      "Orange\n",
      "\n"
     ]
    }
   ],
   "source": [
    "f = open('sample.txt','r')\n",
    "s = f.read()\n",
    "print(s)\n",
    "f.close()"
   ]
  },
  {
   "cell_type": "markdown",
   "id": "328f67a5-c7f5-43e7-9d2f-4fef405a7020",
   "metadata": {},
   "source": [
    "## Q 73:-Write a Python program to append text to a file and display the text."
   ]
  },
  {
   "cell_type": "code",
   "execution_count": 175,
   "id": "fe02f927-5561-4540-99dd-e711bfba0cc7",
   "metadata": {},
   "outputs": [
    {
     "name": "stdout",
     "output_type": "stream",
     "text": [
      "Content of the file after appending text:\n",
      "Apple\n",
      "Banana\n",
      "Cherry\n",
      "Mango\n",
      "Orange\n",
      "This is the new text added to the file.\n",
      "\n"
     ]
    }
   ],
   "source": [
    "file_name = 'sample.txt'\n",
    "\n",
    "text_to_append = \"This is the new text added to the file.\\n\"\n",
    "\n",
    "with open(file_name, 'a') as f:\n",
    "    f.write(text_to_append)\n",
    "    \n",
    "with open(file_name, 'r') as f:\n",
    "    content = f.read()\n",
    "print(\"Content of the file after appending text:\")\n",
    "print(content)    "
   ]
  },
  {
   "cell_type": "markdown",
   "id": "c84d27b8-5ddc-42ee-bf4c-baa240b63ccd",
   "metadata": {},
   "source": [
    "## Q 74:-Write a Python program to read first n lines of a file."
   ]
  },
  {
   "cell_type": "code",
   "execution_count": 176,
   "id": "d73bb8a9-2a28-4893-9540-b5d1ff3077b6",
   "metadata": {},
   "outputs": [
    {
     "name": "stdout",
     "output_type": "stream",
     "text": [
      "Apple\n",
      "Banana\n"
     ]
    }
   ],
   "source": [
    "f = open(\"sample.txt\",'r')\n",
    "for i in range(2):\n",
    "    line = f.readline()\n",
    "    if line == '':\n",
    "        break\n",
    "    print(line,end = \"\")\n",
    "f.close()  "
   ]
  },
  {
   "cell_type": "markdown",
   "id": "0d80e46c-37b7-4533-8207-9508832efeaf",
   "metadata": {},
   "source": [
    "## Q 75:-Write a Python program to read last n lines of a file."
   ]
  },
  {
   "cell_type": "code",
   "execution_count": 178,
   "id": "f80d596a-ae62-4fbd-a892-5e076a0d1bb2",
   "metadata": {},
   "outputs": [
    {
     "name": "stdout",
     "output_type": "stream",
     "text": [
      "Orange\n",
      "This is the new text added to the file.\n"
     ]
    }
   ],
   "source": [
    "f = open(\"sample.txt\",'r')\n",
    "n = 2\n",
    "lines = f.readlines()\n",
    "last_n_lines = lines[-n:]\n",
    "for line in last_n_lines:\n",
    "    print(line, end=\"\")\n",
    "f.close() "
   ]
  },
  {
   "cell_type": "markdown",
   "id": "0b0a4ca8-b31f-463a-8594-3a3c28b2da5a",
   "metadata": {},
   "source": [
    "## Q 76:-Write a Python program to read a file line by line and store it into a list."
   ]
  },
  {
   "cell_type": "code",
   "execution_count": 179,
   "id": "131b370e-1715-4783-a13d-bdf8137806cd",
   "metadata": {},
   "outputs": [
    {
     "name": "stdout",
     "output_type": "stream",
     "text": [
      "['Apple\\n', 'Banana\\n', 'Cherry\\n', 'Mango\\n', 'Orange\\n', 'This is the new text added to the file.\\n']\n"
     ]
    }
   ],
   "source": [
    "f = open(\"sample.txt\",'r')\n",
    "lines_list = []\n",
    "for line in f:\n",
    "    lines_list.append(line)\n",
    "print(lines_list)    "
   ]
  },
  {
   "cell_type": "markdown",
   "id": "d796d2c4-a997-4ff3-b463-8259ad9a76c0",
   "metadata": {},
   "source": [
    "## Q 77:-Write a Python program to read a file line by line store it into a variable."
   ]
  },
  {
   "cell_type": "code",
   "execution_count": 180,
   "id": "e8bbeab8-fe8b-4953-8df9-6bfd51bc6955",
   "metadata": {},
   "outputs": [
    {
     "name": "stdout",
     "output_type": "stream",
     "text": [
      "Apple\n",
      "Banana\n",
      "Cherry\n",
      "Mango\n",
      "Orange\n",
      "This is the new text added to the file.\n",
      "\n"
     ]
    }
   ],
   "source": [
    "f = open(\"sample.txt\",'r')\n",
    "f_content = \"\"\n",
    "for line in f:\n",
    "    f_content += line\n",
    "print(f_content) "
   ]
  },
  {
   "cell_type": "markdown",
   "id": "4605da21-6f0b-4af5-97d4-2f5caaa877a1",
   "metadata": {},
   "source": [
    "## Q 78:-Write a python program to find the longest words. "
   ]
  },
  {
   "cell_type": "code",
   "execution_count": 181,
   "id": "9299d791-ec78-4645-b70e-b245f4147121",
   "metadata": {},
   "outputs": [
    {
     "name": "stdout",
     "output_type": "stream",
     "text": [
      "Longest Word is ['Tops_technologies...']\n"
     ]
    }
   ],
   "source": [
    "text = \"I'm Learning Python in Tops_technologies...\"\n",
    "words = text.split()\n",
    "max_length = max(len(word) for word in words)\n",
    "longest_word = [word for word in words if len(word) == max_length]\n",
    "print(f\"Longest Word is {longest_word}\")"
   ]
  },
  {
   "cell_type": "markdown",
   "id": "830c10ef-e7fa-4dac-9958-42928c0a2c9a",
   "metadata": {},
   "source": [
    "## Q 79:-Write a Python program to count the number of lines in a text file."
   ]
  },
  {
   "cell_type": "code",
   "execution_count": 188,
   "id": "544a56f7-f021-4922-9df8-5e79a3e1328b",
   "metadata": {},
   "outputs": [
    {
     "name": "stdout",
     "output_type": "stream",
     "text": [
      "Number of lines in the file : 6\n"
     ]
    }
   ],
   "source": [
    "f = open(\"sample.txt\",'r')\n",
    "line_count = 0\n",
    "for line in f:\n",
    "    line_count+=1\n",
    "print(f\"Number of lines in the file : {line_count}\")  "
   ]
  },
  {
   "cell_type": "markdown",
   "id": "288f0e52-b81d-4737-ad2d-2194e3fba398",
   "metadata": {},
   "source": [
    "## Q 80:-Write a Python program to count the frequency of words in a file."
   ]
  },
  {
   "cell_type": "code",
   "execution_count": 189,
   "id": "e30d44fc-2e5a-463c-95f1-1d4f9b2a86e5",
   "metadata": {},
   "outputs": [
    {
     "name": "stdout",
     "output_type": "stream",
     "text": [
      "I'm:1\n",
      "Learning:1\n",
      "Python:1\n",
      "in:1\n",
      "Tops_technologies...:1\n"
     ]
    }
   ],
   "source": [
    "from collections import Counter\n",
    "f = open(\"sample.txt\",'r')\n",
    "word_count = Counter(words)\n",
    "for word,count in word_count.items():\n",
    "    print(f\"{word}:{count}\")\n",
    "f.close() "
   ]
  },
  {
   "cell_type": "markdown",
   "id": "8c81c2ed-707e-4551-8519-7b01b477b81d",
   "metadata": {},
   "source": [
    "## Q 81:-Write a Python program to write a list to a file."
   ]
  },
  {
   "cell_type": "code",
   "execution_count": 190,
   "id": "ac2b7f1c-ce50-4652-ac48-2b45f3ea7003",
   "metadata": {},
   "outputs": [
    {
     "name": "stdout",
     "output_type": "stream",
     "text": [
      "List successfully added\n"
     ]
    }
   ],
   "source": [
    "f = open(\"sample.txt\",'w')\n",
    "data_list = [\"Apple\", \"Banana\", \"Cherry\", \"Mango\", \"Orange\"]\n",
    "for item in data_list:\n",
    "    f.write(item + \"\\n\")\n",
    "print(\"List successfully added\")"
   ]
  },
  {
   "cell_type": "markdown",
   "id": "0b940b72-786e-4b7b-a368-0fd6e6fbbef9",
   "metadata": {},
   "source": [
    "## Q 82:-Write a Python program to copy the contents of a file to another file."
   ]
  },
  {
   "cell_type": "code",
   "execution_count": 191,
   "id": "fafd3438-9897-43c9-86fa-8adc79616c7c",
   "metadata": {},
   "outputs": [
    {
     "name": "stdout",
     "output_type": "stream",
     "text": [
      "Contents of 'sample.txt' have been copied to 'destination.txt'.\n"
     ]
    }
   ],
   "source": [
    "source_file_path = 'sample.txt'\n",
    "destination_file_path = 'destination.txt'\n",
    "\n",
    "with open(source_file_path, 'r') as source_file:\n",
    "    content = source_file.read()\n",
    "    \n",
    "with open(destination_file_path, 'w') as destination_file:\n",
    "    destination_file.write(content)\n",
    "\n",
    "print(f\"Contents of '{source_file_path}' have been copied to '{destination_file_path}'.\")"
   ]
  },
  {
   "cell_type": "markdown",
   "id": "4c6db325-4590-4c3d-a418-867297299643",
   "metadata": {},
   "source": [
    "## Q 83:-Explain Exception handling? What is an Error in Python?"
   ]
  },
  {
   "cell_type": "markdown",
   "id": "0f5bf824-9a85-492c-9adc-51d1e3aefab7",
   "metadata": {},
   "source": [
    "Ans:- Exception handling is a mechanism in Python that allows a program to handle runtime errors gracefully, preventing crashes and ensuring smooth execution.\n",
    "      It is implemented using try, except, else, and finally blocks."
   ]
  },
  {
   "cell_type": "code",
   "execution_count": 59,
   "id": "33468774-7ebb-473d-bbe0-04f35ffcce6a",
   "metadata": {},
   "outputs": [
    {
     "name": "stdout",
     "output_type": "stream",
     "text": [
      "Enter a number:  25\n"
     ]
    },
    {
     "name": "stdout",
     "output_type": "stream",
     "text": [
      "Result: 0.4\n",
      "Execution completed.\n"
     ]
    }
   ],
   "source": [
    "try:\n",
    "    num = int(input(\"Enter a number: \"))\n",
    "    result = 10 / num  \n",
    "except ZeroDivisionError:\n",
    "    print(\"Error: Cannot divide by zero.\")\n",
    "except ValueError:\n",
    "    print(\"Error: Invalid input, please enter a number.\")\n",
    "else:\n",
    "    print(\"Result:\", result)  \n",
    "finally:\n",
    "    print(\"Execution completed.\") "
   ]
  },
  {
   "cell_type": "markdown",
   "id": "81fcff66-0e03-4e97-a63c-721727d37e88",
   "metadata": {},
   "source": [
    "Errors in Python are of two main types:\n",
    "\n",
    "    (1) Syntax Errors (Compile-time errors):-\n",
    "            Occur when the syntax of the code is incorrect.\n",
    "    (2) Exceptions (Runtime errors):-\n",
    "            Occur during program execution and can be handled using try-except. "
   ]
  },
  {
   "cell_type": "markdown",
   "id": "9e5848c7-28c1-4099-a546-bc2f78db8b9c",
   "metadata": {},
   "source": [
    "## Q 84:-How many except statements can a try-except block have? Name Some built-in exception classes: "
   ]
  },
  {
   "cell_type": "markdown",
   "id": "e7985596-fdc9-4717-a239-ae926701cd54",
   "metadata": {},
   "source": [
    "Ans:- A try-except block can have multiple except statements to handle different types of exceptions separately. However, only one except block is executed per exception.\n",
    "\n",
    "        Some Built-in Exception Classes in Python:\n",
    "                        ~ ZeroDivisionError - Raised when dividing by zero\n",
    "                        ~ ValueError - Raised for invalid type conversions\n",
    "                        ~ TypeError - Raised for invalid operations between different data types\n",
    "                        ~ IndexError -Raised when accessing an invalid index in a list or tuple\n",
    "                        ~ KeyError - Raised when accessing a non-existent key in a dictionary\n",
    "                        ~ FileNotFoundError - Raised when trying to open a non-existing file\n",
    "                        ~ AttributeError - Raised when an invalid attribute is accessed\n",
    "                        ~ NameError -Raised when trying to use an undefined variable\n",
    "                        ~ IndentationError - Raised due to incorrect indentation\n",
    "                        ~ ImportError - Raised when an import statement fails\n"
   ]
  },
  {
   "cell_type": "markdown",
   "id": "32fe879c-5413-4d80-9151-64832503d26b",
   "metadata": {},
   "source": [
    "## Q 85:-When will the else part of try-except-else be executed?"
   ]
  },
  {
   "cell_type": "markdown",
   "id": "88861ea3-dab8-4f76-8945-ffeb9b62cbc5",
   "metadata": {},
   "source": [
    "Ans :- The else block in a try-except-else structure is executed only if no exceptions occur in the try block."
   ]
  },
  {
   "cell_type": "markdown",
   "id": "1698a774-50c4-421d-b5c9-d1bbd143aebd",
   "metadata": {},
   "source": [
    "## Q 86:-Can one block of except statements handle multiple exception?"
   ]
  },
  {
   "cell_type": "markdown",
   "id": "fd8642f8-2e42-43f1-9a3e-5c9603c26eef",
   "metadata": {},
   "source": [
    "Ans :- Yes.A single except block can handle multiple exceptions by grouping them in a tuple. \n",
    "       This allows catching multiple error types in one block rather than writing separate except statements"
   ]
  },
  {
   "cell_type": "code",
   "execution_count": null,
   "id": "0427b69d-c078-41d4-900f-b820b8a22284",
   "metadata": {},
   "outputs": [
    {
     "name": "stdout",
     "output_type": "stream",
     "text": [
      "Enter a number:  25\n"
     ]
    },
    {
     "name": "stdout",
     "output_type": "stream",
     "text": [
      "0.4\n"
     ]
    }
   ],
   "source": [
    "try:\n",
    "    num = int(input(\"Enter a number: \"))\n",
    "    result = 10 / num  \n",
    "except (ZeroDivisionError, ValueError) :\n",
    "    print(\"Error occurred.\")\n",
    "print(result)"
   ]
  },
  {
   "cell_type": "markdown",
   "id": "b505347e-e1e7-49c3-926a-6b92f01fd1c0",
   "metadata": {},
   "source": [
    "## Q 87:-When is the finally block executed?"
   ]
  },
  {
   "cell_type": "markdown",
   "id": "b0bcac6c-1d63-4d9b-ba3d-cfb86a2bc726",
   "metadata": {},
   "source": [
    "Ans :- The finally block always executes, regardless of whether an exception occurs in the try block or not."
   ]
  },
  {
   "cell_type": "code",
   "execution_count": 61,
   "id": "9e7d656b-937c-4c80-9dd7-138722c99f8e",
   "metadata": {},
   "outputs": [
    {
     "name": "stdout",
     "output_type": "stream",
     "text": [
      "Enter a number:  20\n"
     ]
    },
    {
     "name": "stdout",
     "output_type": "stream",
     "text": [
      "Execution completed. Cleaning up resources...\n"
     ]
    }
   ],
   "source": [
    "try:\n",
    "    num = int(input(\"Enter a number: \"))\n",
    "    result = 10 / num  \n",
    "except ZeroDivisionError:\n",
    "    print(\"Error: Cannot divide by zero.\")\n",
    "except ValueError:\n",
    "    print(\"Error: Invalid input, please enter a number.\")      \n",
    "finally:\n",
    "    print(\"Execution completed. Cleaning up resources...\")"
   ]
  },
  {
   "cell_type": "markdown",
   "id": "57550af2-7bbe-4464-adbf-e5dd687257a6",
   "metadata": {},
   "source": [
    "## Q 88:-What happens when „1‟== 1 is executed?"
   ]
  },
  {
   "cell_type": "code",
   "execution_count": 62,
   "id": "598ea9ee-52aa-4c67-9458-8133cfd99f2b",
   "metadata": {},
   "outputs": [
    {
     "name": "stdout",
     "output_type": "stream",
     "text": [
      "False\n"
     ]
    }
   ],
   "source": [
    "result = \"1\" == 1\n",
    "print(result)"
   ]
  },
  {
   "cell_type": "markdown",
   "id": "c91a492d-233f-42cb-8901-821b078bc9d9",
   "metadata": {},
   "source": [
    "## Q 89:-How Do You Handle Exceptions with Try/Except/Finally in Python?Explain with coding snippets."
   ]
  },
  {
   "cell_type": "markdown",
   "id": "98bbe506-1e44-404c-8df5-ba0e4be5581f",
   "metadata": {},
   "source": [
    "Ans :- In Python, you can handle exceptions using try, except, and finally blocks.\n",
    "            Try to execute code that might raise an exception.\n",
    "            Catch the exception using except and handle it.\n",
    "            Execute the finally block for cleanup, regardless of whether an                 exception occurred or not."
   ]
  },
  {
   "cell_type": "code",
   "execution_count": 63,
   "id": "b1f6088b-7eb7-4e3b-9f5a-4097e5b2f3b2",
   "metadata": {},
   "outputs": [
    {
     "name": "stdout",
     "output_type": "stream",
     "text": [
      "Enter a number:  4\n"
     ]
    },
    {
     "name": "stdout",
     "output_type": "stream",
     "text": [
      "Number entered: 4\n"
     ]
    }
   ],
   "source": [
    "#(1) Basic Try/Except Block: If an error occurs in the try block, it will be caught by the except block, and the program won't crash. \n",
    "try:\n",
    "    num = int(input(\"Enter a number: \"))  \n",
    "    print(\"Number entered:\", num)\n",
    "except ValueError:\n",
    "    print(\"Error: Invalid input! Please enter a valid integer.\")"
   ]
  },
  {
   "cell_type": "code",
   "execution_count": 64,
   "id": "84f88c34-5a79-45bb-85c2-26bbca72e1e3",
   "metadata": {},
   "outputs": [
    {
     "name": "stdout",
     "output_type": "stream",
     "text": [
      "Enter a number:  200\n",
      "Enter another number:  100\n"
     ]
    },
    {
     "name": "stdout",
     "output_type": "stream",
     "text": [
      "Result: 2.0\n"
     ]
    }
   ],
   "source": [
    "#2. Try/Except with Multiple Exceptions: You can catch different types of exceptions in separate except blocks or together.\n",
    "try:\n",
    "    num1 = int(input(\"Enter a number: \"))\n",
    "    num2 = int(input(\"Enter another number: \"))\n",
    "    result = num1 / num2  \n",
    "    print(\"Result:\", result)\n",
    "except ZeroDivisionError:\n",
    "    print(\"Error: Division by zero is not allowed.\")\n",
    "except ValueError:\n",
    "    print(\"Error: Invalid input! Please enter a valid integer.\")"
   ]
  },
  {
   "cell_type": "code",
   "execution_count": 66,
   "id": "57e88747-66fe-4f46-8227-d63146ca7b1c",
   "metadata": {},
   "outputs": [
    {
     "name": "stdout",
     "output_type": "stream",
     "text": [
      "Enter a number:  8\n"
     ]
    },
    {
     "name": "stdout",
     "output_type": "stream",
     "text": [
      "Result: 1.25\n"
     ]
    }
   ],
   "source": [
    "#(3) Using else with Try/Except: The else block is executed if no exceptions are raised in the try block.\n",
    "try:\n",
    "    num = int(input(\"Enter a number: \"))\n",
    "    result = 10 / num  \n",
    "except ZeroDivisionError:\n",
    "    print(\"Error: Cannot divide by zero.\")\n",
    "except ValueError:\n",
    "    print(\"Error: Invalid input, please enter a number.\")\n",
    "else:\n",
    "    print(\"Result:\", result) \n"
   ]
  },
  {
   "cell_type": "code",
   "execution_count": 68,
   "id": "e3eeece5-cb51-4e23-9949-fda5e6d1a826",
   "metadata": {},
   "outputs": [
    {
     "name": "stdout",
     "output_type": "stream",
     "text": [
      "Enter a number:  7\n"
     ]
    },
    {
     "name": "stdout",
     "output_type": "stream",
     "text": [
      "Result: 1.4285714285714286\n",
      "Program Completed\n"
     ]
    }
   ],
   "source": [
    "# (4) 4. Using finally with Try/Except: The finally block always executes, regardless of whether an exception occurred or not.\n",
    "try:\n",
    "    num = int(input(\"Enter a number: \"))\n",
    "    result = 10 / num  \n",
    "except ZeroDivisionError:\n",
    "    print(\"Error: Cannot divide by zero.\")\n",
    "except ValueError:\n",
    "    print(\"Error: Invalid input, please enter a number.\")\n",
    "else:\n",
    "    print(\"Result:\", result) \n",
    "finally:\n",
    "    print(\"Program Completed\")"
   ]
  },
  {
   "cell_type": "markdown",
   "id": "bdba40de-4ddc-4781-af3a-59d9dfa6ab01",
   "metadata": {},
   "source": [
    "## Q 90:-Write python program that user to enter only odd numbers, else will raise an exception."
   ]
  },
  {
   "cell_type": "code",
   "execution_count": 78,
   "id": "06936318-49ef-4045-9eaa-af5d7aa8a780",
   "metadata": {},
   "outputs": [
    {
     "name": "stdout",
     "output_type": "stream",
     "text": [
      "Enter an odd number:  15\n"
     ]
    },
    {
     "name": "stdout",
     "output_type": "stream",
     "text": [
      "Thank you for entering an odd number!\n"
     ]
    }
   ],
   "source": [
    "def check_odd_number(number):\n",
    "    if number % 2 == 0:\n",
    "        raise ValueError(f\"The number {number} is not odd.\")\n",
    "\n",
    "try:\n",
    "    user_input = int(input(\"Enter an odd number: \"))\n",
    "    check_odd_number(user_input)\n",
    "    print(\"Thank you for entering an odd number!\")\n",
    "except ValueError as e:\n",
    "    print(e)\n",
    "except:\n",
    "    print(\"Invalid input! Please enter an integer.\")\n"
   ]
  }
 ],
 "metadata": {
  "kernelspec": {
   "display_name": "Python 3 (ipykernel)",
   "language": "python",
   "name": "python3"
  },
  "language_info": {
   "codemirror_mode": {
    "name": "ipython",
    "version": 3
   },
   "file_extension": ".py",
   "mimetype": "text/x-python",
   "name": "python",
   "nbconvert_exporter": "python",
   "pygments_lexer": "ipython3",
   "version": "3.13.1"
  }
 },
 "nbformat": 4,
 "nbformat_minor": 5
}
